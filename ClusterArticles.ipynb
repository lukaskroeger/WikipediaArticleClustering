{
 "cells": [
  {
   "cell_type": "markdown",
   "id": "relative-crest",
   "metadata": {},
   "source": [
    "# Cluster Articles\n",
    "\n",
    "## Introduction\n",
    "In this notebook I will try to cluster the articles given in the Articles.csv. These articles are from kaggle and contain 30279 articles that are tagged as \"good articles\".\n",
    "https://www.kaggle.com/urbanbricks/wikipedia-promotional-articles"
   ]
  },
  {
   "cell_type": "code",
   "execution_count": 1,
   "id": "velvet-albania",
   "metadata": {},
   "outputs": [],
   "source": [
    "import pandas as pd\n",
    "import numpy as np"
   ]
  },
  {
   "cell_type": "code",
   "execution_count": 2,
   "id": "limited-johns",
   "metadata": {},
   "outputs": [
    {
     "name": "stdout",
     "output_type": "stream",
     "text": [
      "<class 'pandas.core.frame.DataFrame'>\n",
      "RangeIndex: 800 entries, 0 to 799\n",
      "Data columns (total 2 columns):\n",
      " #   Column  Non-Null Count  Dtype \n",
      "---  ------  --------------  ----- \n",
      " 0   text    800 non-null    object\n",
      " 1   url     800 non-null    object\n",
      "dtypes: object(2)\n",
      "memory usage: 12.6+ KB\n"
     ]
    }
   ],
   "source": [
    "df_articles = pd.read_csv(\"./Articles.csv\", nrows=800)\n",
    "df_articles.info()"
   ]
  },
  {
   "cell_type": "code",
   "execution_count": 3,
   "id": "smart-growing",
   "metadata": {},
   "outputs": [
    {
     "data": {
      "text/html": [
       "<div>\n",
       "<style scoped>\n",
       "    .dataframe tbody tr th:only-of-type {\n",
       "        vertical-align: middle;\n",
       "    }\n",
       "\n",
       "    .dataframe tbody tr th {\n",
       "        vertical-align: top;\n",
       "    }\n",
       "\n",
       "    .dataframe thead th {\n",
       "        text-align: right;\n",
       "    }\n",
       "</style>\n",
       "<table border=\"1\" class=\"dataframe\">\n",
       "  <thead>\n",
       "    <tr style=\"text-align: right;\">\n",
       "      <th></th>\n",
       "      <th>text</th>\n",
       "      <th>url</th>\n",
       "    </tr>\n",
       "  </thead>\n",
       "  <tbody>\n",
       "    <tr>\n",
       "      <th>count</th>\n",
       "      <td>800</td>\n",
       "      <td>800</td>\n",
       "    </tr>\n",
       "    <tr>\n",
       "      <th>unique</th>\n",
       "      <td>800</td>\n",
       "      <td>800</td>\n",
       "    </tr>\n",
       "    <tr>\n",
       "      <th>top</th>\n",
       "      <td>Adetokumboh M'Cormack as YemiKolawole Obileye ...</td>\n",
       "      <td>https://en.wikipedia.org/wiki/1948%20Winter%20...</td>\n",
       "    </tr>\n",
       "    <tr>\n",
       "      <th>freq</th>\n",
       "      <td>1</td>\n",
       "      <td>1</td>\n",
       "    </tr>\n",
       "  </tbody>\n",
       "</table>\n",
       "</div>"
      ],
      "text/plain": [
       "                                                     text  \\\n",
       "count                                                 800   \n",
       "unique                                                800   \n",
       "top     Adetokumboh M'Cormack as YemiKolawole Obileye ...   \n",
       "freq                                                    1   \n",
       "\n",
       "                                                      url  \n",
       "count                                                 800  \n",
       "unique                                                800  \n",
       "top     https://en.wikipedia.org/wiki/1948%20Winter%20...  \n",
       "freq                                                    1  "
      ]
     },
     "execution_count": 3,
     "metadata": {},
     "output_type": "execute_result"
    }
   ],
   "source": [
    "df_articles.describe()"
   ]
  },
  {
   "cell_type": "code",
   "execution_count": 4,
   "id": "athletic-tuner",
   "metadata": {},
   "outputs": [
    {
     "data": {
      "text/html": [
       "<div>\n",
       "<style scoped>\n",
       "    .dataframe tbody tr th:only-of-type {\n",
       "        vertical-align: middle;\n",
       "    }\n",
       "\n",
       "    .dataframe tbody tr th {\n",
       "        vertical-align: top;\n",
       "    }\n",
       "\n",
       "    .dataframe thead th {\n",
       "        text-align: right;\n",
       "    }\n",
       "</style>\n",
       "<table border=\"1\" class=\"dataframe\">\n",
       "  <thead>\n",
       "    <tr style=\"text-align: right;\">\n",
       "      <th></th>\n",
       "      <th>text</th>\n",
       "      <th>url</th>\n",
       "    </tr>\n",
       "  </thead>\n",
       "  <tbody>\n",
       "    <tr>\n",
       "      <th>0</th>\n",
       "      <td>Nycticebus linglom is a fossil strepsirrhine p...</td>\n",
       "      <td>https://en.wikipedia.org/wiki/%3F%20Nycticebus...</td>\n",
       "    </tr>\n",
       "    <tr>\n",
       "      <th>1</th>\n",
       "      <td>Oryzomys pliocaenicus is a fossil rodent from ...</td>\n",
       "      <td>https://en.wikipedia.org/wiki/%3F%20Oryzomys%2...</td>\n",
       "    </tr>\n",
       "    <tr>\n",
       "      <th>2</th>\n",
       "      <td>.hack dt hk is a series of single player actio...</td>\n",
       "      <td>https://en.wikipedia.org/wiki/.hack%20%28video...</td>\n",
       "    </tr>\n",
       "    <tr>\n",
       "      <th>3</th>\n",
       "      <td>The You Drive Me Crazy Tour was the second con...</td>\n",
       "      <td>https://en.wikipedia.org/wiki/%28You%20Drive%2...</td>\n",
       "    </tr>\n",
       "    <tr>\n",
       "      <th>4</th>\n",
       "      <td>0 8 4 is the second episode of the first seaso...</td>\n",
       "      <td>https://en.wikipedia.org/wiki/0-8-4</td>\n",
       "    </tr>\n",
       "  </tbody>\n",
       "</table>\n",
       "</div>"
      ],
      "text/plain": [
       "                                                text  \\\n",
       "0  Nycticebus linglom is a fossil strepsirrhine p...   \n",
       "1  Oryzomys pliocaenicus is a fossil rodent from ...   \n",
       "2  .hack dt hk is a series of single player actio...   \n",
       "3  The You Drive Me Crazy Tour was the second con...   \n",
       "4  0 8 4 is the second episode of the first seaso...   \n",
       "\n",
       "                                                 url  \n",
       "0  https://en.wikipedia.org/wiki/%3F%20Nycticebus...  \n",
       "1  https://en.wikipedia.org/wiki/%3F%20Oryzomys%2...  \n",
       "2  https://en.wikipedia.org/wiki/.hack%20%28video...  \n",
       "3  https://en.wikipedia.org/wiki/%28You%20Drive%2...  \n",
       "4                https://en.wikipedia.org/wiki/0-8-4  "
      ]
     },
     "execution_count": 4,
     "metadata": {},
     "output_type": "execute_result"
    }
   ],
   "source": [
    "df_articles.head()"
   ]
  },
  {
   "cell_type": "markdown",
   "id": "split-titanium",
   "metadata": {},
   "source": [
    "## Method 1: Methods from Data Mining cours at university.\n",
    "Using:\n",
    "- Shingles\n",
    "- Min-Hashing\n",
    "- locality sensitive hashing (LHS)"
   ]
  },
  {
   "cell_type": "code",
   "execution_count": 5,
   "id": "tamil-oklahoma",
   "metadata": {},
   "outputs": [],
   "source": [
    "#df_articles = df_articles.head(800)"
   ]
  },
  {
   "cell_type": "markdown",
   "id": "unlike-juice",
   "metadata": {},
   "source": [
    "### Create Shingles"
   ]
  },
  {
   "cell_type": "code",
   "execution_count": 6,
   "id": "acquired-density",
   "metadata": {},
   "outputs": [],
   "source": [
    "shingleSize = 3"
   ]
  },
  {
   "cell_type": "code",
   "execution_count": 7,
   "id": "dietary-sacramento",
   "metadata": {},
   "outputs": [],
   "source": [
    "#s = sentence, k = Shingle size\n",
    "def findShingles(s, k):\n",
    "    s = s.replace(\" \", \"\")\n",
    "    s = ''.join(e for e in s if e.isalnum())\n",
    "    s = s.lower()\n",
    "    shingles = set();\n",
    "    for i in range(0, len(s)-k+1):\n",
    "        shingles.add(s[i:i+k])\n",
    "    return shingles"
   ]
  },
  {
   "cell_type": "code",
   "execution_count": 8,
   "id": "sound-scott",
   "metadata": {},
   "outputs": [],
   "source": [
    "shingles = [findShingles(x, shingleSize) for x in df_articles[\"text\"]]\n",
    "df_articles.insert(1,\"Shingles\", shingles)"
   ]
  },
  {
   "cell_type": "code",
   "execution_count": 9,
   "id": "incoming-lotus",
   "metadata": {},
   "outputs": [
    {
     "data": {
      "text/html": [
       "<div>\n",
       "<style scoped>\n",
       "    .dataframe tbody tr th:only-of-type {\n",
       "        vertical-align: middle;\n",
       "    }\n",
       "\n",
       "    .dataframe tbody tr th {\n",
       "        vertical-align: top;\n",
       "    }\n",
       "\n",
       "    .dataframe thead th {\n",
       "        text-align: right;\n",
       "    }\n",
       "</style>\n",
       "<table border=\"1\" class=\"dataframe\">\n",
       "  <thead>\n",
       "    <tr style=\"text-align: right;\">\n",
       "      <th></th>\n",
       "      <th>text</th>\n",
       "      <th>Shingles</th>\n",
       "      <th>url</th>\n",
       "    </tr>\n",
       "  </thead>\n",
       "  <tbody>\n",
       "    <tr>\n",
       "      <th>0</th>\n",
       "      <td>Nycticebus linglom is a fossil strepsirrhine p...</td>\n",
       "      <td>{des, lyr, lsi, san, erp, ers, vir, ign, ish, ...</td>\n",
       "      <td>https://en.wikipedia.org/wiki/%3F%20Nycticebus...</td>\n",
       "    </tr>\n",
       "    <tr>\n",
       "      <th>1</th>\n",
       "      <td>Oryzomys pliocaenicus is a fossil rodent from ...</td>\n",
       "      <td>{des, lyr, ddu, lsi, san, ers, 6ph, erp, ame, ...</td>\n",
       "      <td>https://en.wikipedia.org/wiki/%3F%20Oryzomys%2...</td>\n",
       "    </tr>\n",
       "    <tr>\n",
       "      <th>2</th>\n",
       "      <td>.hack dt hk is a series of single player actio...</td>\n",
       "      <td>{des, lsi, san, rho, fdi, ers, erp, pea, ctc, ...</td>\n",
       "      <td>https://en.wikipedia.org/wiki/.hack%20%28video...</td>\n",
       "    </tr>\n",
       "    <tr>\n",
       "      <th>3</th>\n",
       "      <td>The You Drive Me Crazy Tour was the second con...</td>\n",
       "      <td>{des, san, ers, erp, pea, inf, ket, atu, dto, ...</td>\n",
       "      <td>https://en.wikipedia.org/wiki/%28You%20Drive%2...</td>\n",
       "    </tr>\n",
       "    <tr>\n",
       "      <th>4</th>\n",
       "      <td>0 8 4 is the second episode of the first seaso...</td>\n",
       "      <td>{des, gov, san, tzo, ers, erp, pea, lix, inf, ...</td>\n",
       "      <td>https://en.wikipedia.org/wiki/0-8-4</td>\n",
       "    </tr>\n",
       "  </tbody>\n",
       "</table>\n",
       "</div>"
      ],
      "text/plain": [
       "                                                text  \\\n",
       "0  Nycticebus linglom is a fossil strepsirrhine p...   \n",
       "1  Oryzomys pliocaenicus is a fossil rodent from ...   \n",
       "2  .hack dt hk is a series of single player actio...   \n",
       "3  The You Drive Me Crazy Tour was the second con...   \n",
       "4  0 8 4 is the second episode of the first seaso...   \n",
       "\n",
       "                                            Shingles  \\\n",
       "0  {des, lyr, lsi, san, erp, ers, vir, ign, ish, ...   \n",
       "1  {des, lyr, ddu, lsi, san, ers, 6ph, erp, ame, ...   \n",
       "2  {des, lsi, san, rho, fdi, ers, erp, pea, ctc, ...   \n",
       "3  {des, san, ers, erp, pea, inf, ket, atu, dto, ...   \n",
       "4  {des, gov, san, tzo, ers, erp, pea, lix, inf, ...   \n",
       "\n",
       "                                                 url  \n",
       "0  https://en.wikipedia.org/wiki/%3F%20Nycticebus...  \n",
       "1  https://en.wikipedia.org/wiki/%3F%20Oryzomys%2...  \n",
       "2  https://en.wikipedia.org/wiki/.hack%20%28video...  \n",
       "3  https://en.wikipedia.org/wiki/%28You%20Drive%2...  \n",
       "4                https://en.wikipedia.org/wiki/0-8-4  "
      ]
     },
     "execution_count": 9,
     "metadata": {},
     "output_type": "execute_result"
    }
   ],
   "source": [
    "df_articles.head()"
   ]
  },
  {
   "cell_type": "markdown",
   "id": "boring-baking",
   "metadata": {},
   "source": [
    "### Min-Hashing\n",
    "Currently very imperformant. It works only for 3-Shingles or less."
   ]
  },
  {
   "cell_type": "code",
   "execution_count": 10,
   "id": "final-priority",
   "metadata": {},
   "outputs": [],
   "source": [
    "#s = array of subsets\n",
    "#u = universe\n",
    "def charMatrix(s, u):\n",
    "    charMatrix = np.full((len(u), len(s)),False)\n",
    "    for i in range(0, len(u)):\n",
    "        for ii in range(0,len(s)):\n",
    "            if(u[i] in s[ii]):\n",
    "                charMatrix[i][ii] = True\n",
    "    return charMatrix"
   ]
  },
  {
   "cell_type": "code",
   "execution_count": 11,
   "id": "going-concern",
   "metadata": {},
   "outputs": [],
   "source": [
    "# c = characteristic matrix\n",
    "# list of Hash functions\n",
    "def minHashing(c, h):\n",
    "    sigMatrix = np.full((len(h),np.size(c,1)),np.inf)\n",
    "    #iterate over rows\n",
    "    for i in range(0, np.size(c,0)):\n",
    "        hashResults = [h[x](i) for x in range(0,len(h))]\n",
    "        #iterate over columns/subsets\n",
    "        for ii in range(0, np.size(c,1)):\n",
    "            if(c[i,ii]):\n",
    "                for j in range(0,np.size(sigMatrix,0)):\n",
    "                    sigMatrix[j,ii] = min(sigMatrix[j,ii], hashResults[j])\n",
    "    return sigMatrix\n",
    "        \n",
    "        "
   ]
  },
  {
   "cell_type": "code",
   "execution_count": 12,
   "id": "chief-vietnamese",
   "metadata": {},
   "outputs": [],
   "source": [
    "#a = alphabet\n",
    "#l = shingle len\n",
    "def createUniverse(a, l):\n",
    "    if(l == 1):\n",
    "        return a\n",
    "    else:\n",
    "        result = []\n",
    "        for char in a:\n",
    "            for comb in createUniverse(a, l-1):\n",
    "                result.append(char+comb)\n",
    "        return result\n",
    "            "
   ]
  },
  {
   "cell_type": "markdown",
   "id": "changed-swedish",
   "metadata": {},
   "source": [
    "### Test functions\n",
    "Simple test"
   ]
  },
  {
   "cell_type": "code",
   "execution_count": 13,
   "id": "tender-mining",
   "metadata": {},
   "outputs": [],
   "source": [
    "testTexts = [\"ad\", \"c\", \"bde\", \"acd\"]\n",
    "testOneShingles = [findShingles(x, 1) for x in testTexts]\n",
    "testUniverse = createUniverse([\"a\",\"b\",\"c\",\"d\",\"e\"], 1)\n",
    "testCharMatrix = charMatrix(testOneShingles, testUniverse)\n",
    "testSigMatrix = minHashing(testCharMatrix, [lambda x: (x+1)%np.size(testCharMatrix,0), lambda x: (3*x+1)%np.size(testCharMatrix,0)])"
   ]
  },
  {
   "cell_type": "code",
   "execution_count": 14,
   "id": "greek-pencil",
   "metadata": {},
   "outputs": [],
   "source": [
    "assert(testOneShingles == [{'a', 'd'}, {'c'}, {'b', 'd', 'e'}, {'a', 'c', 'd'}])\n",
    "assert(testUniverse == ['a', 'b', 'c', 'd', 'e'])\n",
    "expectedResult = np.array([[ True, False, False,  True],\n",
    "                           [False, False,  True, False],\n",
    "                           [False,  True, False,  True],\n",
    "                           [ True, False,  True,  True],\n",
    "                           [False, False,  True, False]])\n",
    "assert(np.array_equal(testCharMatrix,expectedResult))\n",
    "expectedResult =np.array([[1., 3., 0., 1.],\n",
    "                          [0., 2., 0., 0.]])\n",
    "assert(np.array_equal(testSigMatrix,expectedResult))"
   ]
  },
  {
   "cell_type": "markdown",
   "id": "obvious-branch",
   "metadata": {},
   "source": [
    "### Calculate Dataset"
   ]
  },
  {
   "cell_type": "code",
   "execution_count": 15,
   "id": "weighted-palmer",
   "metadata": {},
   "outputs": [],
   "source": [
    "import string\n",
    "import sys\n",
    "universe = createUniverse([i for i in string.printable if i.islower() or i.isnumeric()], shingleSize)"
   ]
  },
  {
   "cell_type": "code",
   "execution_count": 16,
   "id": "level-priest",
   "metadata": {},
   "outputs": [],
   "source": [
    "charMatrixRes = charMatrix(df_articles[\"Shingles\"], universe)"
   ]
  },
  {
   "cell_type": "code",
   "execution_count": 17,
   "id": "active-uncertainty",
   "metadata": {},
   "outputs": [],
   "source": [
    "minHash = minHashing(charMatrixRes, [lambda x: (1.34*x)%np.size(charMatrixRes,0)])"
   ]
  },
  {
   "cell_type": "code",
   "execution_count": 18,
   "id": "signal-capital",
   "metadata": {},
   "outputs": [
    {
     "data": {
      "text/plain": [
       "800"
      ]
     },
     "execution_count": 18,
     "metadata": {},
     "output_type": "execute_result"
    }
   ],
   "source": [
    "np.size(minHash)"
   ]
  },
  {
   "cell_type": "code",
   "execution_count": 19,
   "id": "complicated-typing",
   "metadata": {
    "scrolled": true
   },
   "outputs": [
    {
     "data": {
      "text/plain": [
       "array([[731.76,   0.  ,   0.  ,   0.  ,  52.26,   0.  ,   9.38,   0.  ,\n",
       "          0.  ,   0.  ,   0.  ,   0.  ,   0.  ,   0.  ,   0.  ,   0.  ,\n",
       "          0.  ,   0.  ,   0.  ,   0.  ,   0.  ,   0.  ,   0.  , 274.7 ,\n",
       "          2.68,   0.  ,   0.  ,   0.  , 293.58,   0.  ,   0.  ,   0.  ,\n",
       "        293.58,   0.  , 730.42,   0.  ,   0.  ,   0.  ,   0.  ,  13.4 ,\n",
       "          0.  ,  13.4 ,   0.  ,  33.5 ,  24.12,  33.5 ,   0.  ,   0.  ,\n",
       "         25.46,  29.48,  29.48,   0.  , 290.9 ,  24.12,   0.  ,   0.  ,\n",
       "          0.  ,   0.  ,   6.7 ,   8.04,   1.34, 274.7 ,   0.  ,   0.  ,\n",
       "          0.  ,   0.  ,   0.  ,   0.  ,   0.  ,   0.  ,   0.  ,   0.  ,\n",
       "         17.42,   0.  ,   0.  ,  81.74,   0.  ,   1.34,   0.  , 411.5 ,\n",
       "          0.  ,   0.  ,   0.  ,   0.  ,   0.  ,   0.  ,   0.  ,   0.  ,\n",
       "          0.  ,  33.5 ,   0.  ,   2.68,   0.  ,   0.  ,   5.36,   0.  ,\n",
       "          0.  ,   0.  ,   0.  ,   0.  ,   1.34,   1.34,   0.  , 293.58,\n",
       "          0.  ,   0.  ,   0.  ,   0.  ,   0.  ,   0.  ,   0.  ,  12.06,\n",
       "          0.  ,  10.72,   0.  ,   0.  ,   0.  ,  38.86,   0.  ,   5.36,\n",
       "         49.58,  49.58,   0.  ,   0.  ,   0.  ,  57.62,   0.  ,   0.  ,\n",
       "          0.  ,   0.  ,   0.  ,   0.  ,  10.72,   0.  ,   0.  ,  49.58,\n",
       "          0.  ,   0.  ,   5.36,   0.  ,   0.  ,   0.  ,   0.  ,  30.82,\n",
       "          0.  ,   2.68,   0.  ,   0.  ,   0.  ,  21.44,  10.72,   9.38,\n",
       "          1.34,   0.  ,   0.  ,   1.34,   0.  ,   0.  ,   2.68,   0.  ,\n",
       "          0.  ,   2.68,  53.6 ,   8.04,   0.  ,   0.  , 293.58,   0.  ,\n",
       "          0.  ,   0.  ,   0.  ,   2.68,   4.02, 112.56,   0.  ,   0.  ,\n",
       "          0.  ,   0.  ,   0.  ,   0.  ,   0.  ,   9.38,   1.34,   0.  ,\n",
       "          0.  ,   0.  ,   1.34,  48.24,   0.  ,  33.5 ,  36.18,   0.  ,\n",
       "        293.58,   0.  ,   0.  ,  29.48,   0.  ,   4.02,   0.  ,   1.34,\n",
       "          0.  ,  13.4 ,  29.48,   8.04,   0.  ,   0.  ,   1.34,   0.  ,\n",
       "          0.  ,   6.7 ,   0.  ,   2.68, 367.16,  17.42,   5.36,  16.08,\n",
       "         29.48,  16.08,   6.7 ,   0.  , 100.5 ,   0.  ,  60.3 ,  58.96,\n",
       "          0.  ,   0.  , 289.44,   0.  ,   0.  ,   0.  ,   0.  ,   0.  ,\n",
       "          0.  , 293.58,   0.  ,   4.02,   0.  ,   0.  ,  37.52,   0.  ,\n",
       "          0.  ,   0.  ,   8.04,   0.  ,  37.52,   0.  ,  10.72,   8.04,\n",
       "          8.04,   0.  ,   0.  ,   0.  ,   0.  ,   0.  ,   5.36,   0.  ,\n",
       "        107.2 ,   0.  ,   0.  ,   0.  ,   0.  ,   0.  ,   0.  ,  49.58,\n",
       "          1.34,   0.  ,   0.  ,   0.  ,   2.68,   1.34,   0.  ,   1.34,\n",
       "          2.68,   2.68,   2.68,   0.  ,   0.  ,   0.  ,   0.  ,   0.  ,\n",
       "          0.  ,   2.68,   0.  ,   1.34,   0.  ,   0.  ,   4.02,   0.  ,\n",
       "          4.02,   0.  ,   0.  ,   0.  ,   0.  ,   0.  ,   0.  ,   0.  ,\n",
       "        293.58,   0.  ,   0.  ,   6.7 ,   0.  ,   0.  ,   0.  ,   0.  ,\n",
       "          0.  ,   0.  ,   0.  ,  16.08,   0.  ,   8.04,   0.  ,   0.  ,\n",
       "          5.36,   0.  ,   0.  ,   0.  ,   0.  ,   0.  ,   0.  ,   0.  ,\n",
       "          0.  ,   0.  ,   0.  ,   0.  ,   0.  ,   8.04,   0.  ,   0.  ,\n",
       "          8.04,   0.  ,   0.  ,  50.92,   0.  ,   0.  ,   0.  ,   0.  ,\n",
       "          0.  ,   0.  ,   1.34,   0.  ,   0.  ,   0.  ,  24.12,   0.  ,\n",
       "         57.62,  22.78,   0.  ,   0.  ,   0.  ,   0.  ,   0.  ,   0.  ,\n",
       "          0.  , 345.72,   0.  ,  16.08,   0.  ,   0.  ,   0.  ,   0.  ,\n",
       "          0.  ,  60.3 ,   0.  ,  38.86,  60.3 ,   0.  ,   0.  ,   0.  ,\n",
       "        253.26,   0.  ,   0.  ,  45.56, 499.82, 183.58,  22.78, 331.1 ,\n",
       "          0.  , 290.78,   0.  ,   6.7 ,   0.  ,   0.  ,   0.  ,   0.  ,\n",
       "          0.  ,   0.  ,   0.  ,   0.  ,   0.  ,   0.  ,  29.48,   0.  ,\n",
       "          0.  ,   0.  ,  26.8 ,   0.  ,   0.  ,  29.48,  17.42,   0.  ,\n",
       "          0.  ,   0.  ,   8.04,   0.  ,   0.  ,   0.  , 139.36,   0.  ,\n",
       "        139.36,  96.48,   0.  ,  79.06,  37.52,  30.82,  38.86,   0.  ,\n",
       "          0.  ,   0.  ,  20.1 ,  13.4 ,   0.  ,   0.  ,   0.  ,   0.  ,\n",
       "          0.  , 292.24,   0.  ,  13.4 ,  13.4 ,   0.  ,   0.  ,   0.  ,\n",
       "          0.  ,   0.  ,   0.  ,   0.  ,   0.  ,   0.  ,   0.  ,   0.  ,\n",
       "         21.44,   0.  ,   0.  ,   0.  ,   0.  ,   0.  ,   0.  ,  50.92,\n",
       "          0.  ,   0.  ,   0.  ,   0.  ,  14.74,   0.  ,   0.  ,   0.  ,\n",
       "          0.  ,  13.4 ,   0.  ,   0.  ,   0.  ,   0.  ,   0.  ,   0.  ,\n",
       "         16.08,  37.52,   0.  ,   4.02,   0.  ,   0.  ,   0.  ,   0.  ,\n",
       "          0.  ,   0.  ,   0.  ,   0.  ,   0.  ,   0.  ,   0.  ,   0.  ,\n",
       "          0.  ,   0.  ,   4.02,   0.  ,   0.  ,   0.  ,   0.  ,   0.  ,\n",
       "          0.  ,   0.  ,   0.  ,  45.56,   0.  ,   0.  ,  33.5 ,   0.  ,\n",
       "          0.  ,   0.  ,   2.68,   0.  ,   0.  ,   0.  ,   0.  ,   0.  ,\n",
       "          0.  , 142.04,   0.  ,   0.  ,  50.92,   0.  ,   0.  ,   6.7 ,\n",
       "          0.  ,   0.  ,  20.1 ,   0.  ,   0.  ,   0.  ,   0.  ,   0.  ,\n",
       "          0.  ,   0.  ,   0.  ,   0.  ,   0.  ,   0.  ,   0.  ,   0.  ,\n",
       "          0.  ,   0.  ,   0.  ,   0.  ,   0.  ,   5.36,   1.34,   0.  ,\n",
       "          0.  ,   0.  ,   0.  ,   0.  ,   0.  ,   0.  ,   0.  ,   0.  ,\n",
       "          0.  ,   0.  ,   0.  ,   0.  ,   0.  ,   0.  ,   0.  , 206.36,\n",
       "          0.  ,   0.  ,   0.  ,   0.  ,   0.  ,   0.  ,   0.  ,   0.  ,\n",
       "          0.  ,   0.  ,   0.  ,   0.  ,   0.  ,   0.  ,   0.  ,   0.  ,\n",
       "          0.  ,   0.  ,   0.  ,   0.  ,   0.  ,   1.34,   0.  ,   0.  ,\n",
       "          0.  ,   0.  ,  60.3 ,   0.  ,   0.  ,   0.  ,   0.  ,   0.  ,\n",
       "          0.  ,   0.  ,   0.  ,   0.  ,   0.  , 180.9 ,   0.  ,   0.  ,\n",
       "          0.  ,   0.  , 302.96,   0.  ,   0.  ,   0.  ,   0.  ,   0.  ,\n",
       "          0.  , 281.52, 423.44,   0.  ,   0.  ,   0.  ,   8.04,   0.  ,\n",
       "          0.  ,   0.  ,   0.  ,   1.34,   0.  ,   0.  ,   0.  ,  60.3 ,\n",
       "          0.  ,   0.  ,   0.  ,   0.  ,  36.18,   0.  ,   0.  ,   0.  ,\n",
       "          0.  ,   0.  ,   0.  , 144.72,   0.  ,   0.  ,   0.  ,   0.  ,\n",
       "          0.  ,   0.  ,   0.  ,   0.  ,   0.  ,   0.  ,   0.  ,   0.  ,\n",
       "          0.  ,   0.  ,   2.68,   8.04,   0.  , 329.76,   0.  ,   0.  ,\n",
       "          0.  ,   0.  ,  50.92,  53.72,   0.  ,   0.  ,   0.  ,   0.  ,\n",
       "         17.42,   0.  ,   0.  ,   0.  ,   0.  ,   0.  ,   0.  ,   0.  ,\n",
       "          0.  ,   0.  ,   0.  ,   0.  ,   0.  ,   0.  ,   0.  ,   0.  ,\n",
       "        293.58,   0.  ,  29.48,   0.  ,  12.06,   0.  ,   0.  ,   0.  ,\n",
       "          1.34,   0.  ,  38.86,   0.  ,   0.  ,   0.  ,   0.  ,   0.  ,\n",
       "          0.  ,   0.  ,  17.42,   0.  ,   0.  ,   0.  ,   0.  ,  18.76,\n",
       "          0.  ,  84.42,   0.  ,   0.  ,  28.14,  20.1 ,   0.  ,   0.  ,\n",
       "        100.5 ,  24.12,   0.  ,   0.  ,   0.  ,  29.48,  13.4 ,   0.  ,\n",
       "         16.08,   0.  ,   0.  ,   1.34,   0.  ,   0.  ,   0.  ,   0.  ,\n",
       "         13.4 ,   0.  ,   0.  ,   0.  ,   1.34,   0.  ,   0.  , 435.5 ,\n",
       "          0.  ,   0.  ,   0.  ,   0.  ,   0.  ,   0.  ,   0.  , 316.24,\n",
       "          0.  ,   0.  ,   0.  ,   0.  ,   0.  ,  24.12,   0.  ,   0.  ,\n",
       "         49.58,   0.  ,   6.7 ,   0.  ,  24.12,   0.  ,   0.  ,   0.  ,\n",
       "          0.  ,   9.38,   0.  ,   0.  ,  26.8 ,   0.  ,   0.  ,   0.  ,\n",
       "          0.  ,   0.  ,   0.  ,   0.  ,   0.  ,   6.7 ,   0.  ,   0.  ,\n",
       "         60.3 ,   0.  ,   0.  ,   0.  ,   0.  ,   0.  ,  60.3 ,   0.  ,\n",
       "          0.  ,   0.  ,   9.38,   2.68,   0.  ,  13.4 ,  26.8 ,   0.  ,\n",
       "          2.68,  60.3 , 288.22,  13.4 ,   0.  ,   0.  ,   0.  ,   0.  ,\n",
       "          0.  ,  29.48,   0.  ,  26.8 ,  26.8 ,   0.  ,  60.3 ,  58.96]])"
      ]
     },
     "execution_count": 19,
     "metadata": {},
     "output_type": "execute_result"
    }
   ],
   "source": [
    "minHash"
   ]
  }
 ],
 "metadata": {
  "kernelspec": {
   "display_name": "Wikipedia",
   "language": "python",
   "name": "wikipedia"
  },
  "language_info": {
   "codemirror_mode": {
    "name": "ipython",
    "version": 3
   },
   "file_extension": ".py",
   "mimetype": "text/x-python",
   "name": "python",
   "nbconvert_exporter": "python",
   "pygments_lexer": "ipython3",
   "version": "3.8.6"
  }
 },
 "nbformat": 4,
 "nbformat_minor": 5
}
