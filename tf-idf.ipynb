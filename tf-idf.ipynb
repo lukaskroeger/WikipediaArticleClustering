{
 "cells": [
  {
   "cell_type": "markdown",
   "id": "homeless-coffee",
   "metadata": {},
   "source": [
    "# Content based recommendations using the tf-idf algorithm"
   ]
  },
  {
   "cell_type": "code",
   "execution_count": 1,
   "id": "brutal-mercury",
   "metadata": {},
   "outputs": [],
   "source": [
    "import pandas as pd\n",
    "import numpy as np\n",
    "import random\n",
    "import math\n",
    "from nltk.tokenize import word_tokenize\n",
    "import multiprocessing as mp\n",
    "from sklearn.feature_extraction.text import TfidfVectorizer"
   ]
  },
  {
   "cell_type": "code",
   "execution_count": 2,
   "id": "external-finding",
   "metadata": {},
   "outputs": [
    {
     "name": "stdout",
     "output_type": "stream",
     "text": [
      "<class 'pandas.core.frame.DataFrame'>\n",
      "RangeIndex: 800 entries, 0 to 799\n",
      "Data columns (total 2 columns):\n",
      " #   Column  Non-Null Count  Dtype \n",
      "---  ------  --------------  ----- \n",
      " 0   text    800 non-null    object\n",
      " 1   url     800 non-null    object\n",
      "dtypes: object(2)\n",
      "memory usage: 12.6+ KB\n"
     ]
    }
   ],
   "source": [
    "df_articles = pd.read_csv(\"./Articles.csv\", nrows=800)\n",
    "df_articles.info()"
   ]
  },
  {
   "cell_type": "code",
   "execution_count": 3,
   "id": "crucial-prerequisite",
   "metadata": {},
   "outputs": [
    {
     "data": {
      "text/html": [
       "<div>\n",
       "<style scoped>\n",
       "    .dataframe tbody tr th:only-of-type {\n",
       "        vertical-align: middle;\n",
       "    }\n",
       "\n",
       "    .dataframe tbody tr th {\n",
       "        vertical-align: top;\n",
       "    }\n",
       "\n",
       "    .dataframe thead th {\n",
       "        text-align: right;\n",
       "    }\n",
       "</style>\n",
       "<table border=\"1\" class=\"dataframe\">\n",
       "  <thead>\n",
       "    <tr style=\"text-align: right;\">\n",
       "      <th></th>\n",
       "      <th>text</th>\n",
       "      <th>url</th>\n",
       "    </tr>\n",
       "  </thead>\n",
       "  <tbody>\n",
       "    <tr>\n",
       "      <th>count</th>\n",
       "      <td>800</td>\n",
       "      <td>800</td>\n",
       "    </tr>\n",
       "    <tr>\n",
       "      <th>unique</th>\n",
       "      <td>800</td>\n",
       "      <td>800</td>\n",
       "    </tr>\n",
       "    <tr>\n",
       "      <th>top</th>\n",
       "      <td>Nycticebus linglom is a fossil strepsirrhine p...</td>\n",
       "      <td>https://en.wikipedia.org/wiki/34th%20Street%E2...</td>\n",
       "    </tr>\n",
       "    <tr>\n",
       "      <th>freq</th>\n",
       "      <td>1</td>\n",
       "      <td>1</td>\n",
       "    </tr>\n",
       "  </tbody>\n",
       "</table>\n",
       "</div>"
      ],
      "text/plain": [
       "                                                     text  \\\n",
       "count                                                 800   \n",
       "unique                                                800   \n",
       "top     Nycticebus linglom is a fossil strepsirrhine p...   \n",
       "freq                                                    1   \n",
       "\n",
       "                                                      url  \n",
       "count                                                 800  \n",
       "unique                                                800  \n",
       "top     https://en.wikipedia.org/wiki/34th%20Street%E2...  \n",
       "freq                                                    1  "
      ]
     },
     "execution_count": 3,
     "metadata": {},
     "output_type": "execute_result"
    }
   ],
   "source": [
    "df_articles.describe()"
   ]
  },
  {
   "cell_type": "code",
   "execution_count": 4,
   "id": "opponent-gauge",
   "metadata": {},
   "outputs": [
    {
     "data": {
      "text/html": [
       "<div>\n",
       "<style scoped>\n",
       "    .dataframe tbody tr th:only-of-type {\n",
       "        vertical-align: middle;\n",
       "    }\n",
       "\n",
       "    .dataframe tbody tr th {\n",
       "        vertical-align: top;\n",
       "    }\n",
       "\n",
       "    .dataframe thead th {\n",
       "        text-align: right;\n",
       "    }\n",
       "</style>\n",
       "<table border=\"1\" class=\"dataframe\">\n",
       "  <thead>\n",
       "    <tr style=\"text-align: right;\">\n",
       "      <th></th>\n",
       "      <th>text</th>\n",
       "      <th>url</th>\n",
       "    </tr>\n",
       "  </thead>\n",
       "  <tbody>\n",
       "    <tr>\n",
       "      <th>0</th>\n",
       "      <td>Nycticebus linglom is a fossil strepsirrhine p...</td>\n",
       "      <td>https://en.wikipedia.org/wiki/%3F%20Nycticebus...</td>\n",
       "    </tr>\n",
       "    <tr>\n",
       "      <th>1</th>\n",
       "      <td>Oryzomys pliocaenicus is a fossil rodent from ...</td>\n",
       "      <td>https://en.wikipedia.org/wiki/%3F%20Oryzomys%2...</td>\n",
       "    </tr>\n",
       "    <tr>\n",
       "      <th>2</th>\n",
       "      <td>.hack dt hk is a series of single player actio...</td>\n",
       "      <td>https://en.wikipedia.org/wiki/.hack%20%28video...</td>\n",
       "    </tr>\n",
       "    <tr>\n",
       "      <th>3</th>\n",
       "      <td>The You Drive Me Crazy Tour was the second con...</td>\n",
       "      <td>https://en.wikipedia.org/wiki/%28You%20Drive%2...</td>\n",
       "    </tr>\n",
       "    <tr>\n",
       "      <th>4</th>\n",
       "      <td>0 8 4 is the second episode of the first seaso...</td>\n",
       "      <td>https://en.wikipedia.org/wiki/0-8-4</td>\n",
       "    </tr>\n",
       "  </tbody>\n",
       "</table>\n",
       "</div>"
      ],
      "text/plain": [
       "                                                text  \\\n",
       "0  Nycticebus linglom is a fossil strepsirrhine p...   \n",
       "1  Oryzomys pliocaenicus is a fossil rodent from ...   \n",
       "2  .hack dt hk is a series of single player actio...   \n",
       "3  The You Drive Me Crazy Tour was the second con...   \n",
       "4  0 8 4 is the second episode of the first seaso...   \n",
       "\n",
       "                                                 url  \n",
       "0  https://en.wikipedia.org/wiki/%3F%20Nycticebus...  \n",
       "1  https://en.wikipedia.org/wiki/%3F%20Oryzomys%2...  \n",
       "2  https://en.wikipedia.org/wiki/.hack%20%28video...  \n",
       "3  https://en.wikipedia.org/wiki/%28You%20Drive%2...  \n",
       "4                https://en.wikipedia.org/wiki/0-8-4  "
      ]
     },
     "execution_count": 4,
     "metadata": {},
     "output_type": "execute_result"
    }
   ],
   "source": [
    "df_articles.head()"
   ]
  },
  {
   "cell_type": "code",
   "execution_count": null,
   "id": "bronze-grave",
   "metadata": {
    "scrolled": true
   },
   "outputs": [],
   "source": []
  },
  {
   "cell_type": "markdown",
   "id": "signal-stanley",
   "metadata": {},
   "source": [
    "## Calculate the TF-IDF Score"
   ]
  },
  {
   "cell_type": "markdown",
   "id": "defensive-melissa",
   "metadata": {},
   "source": [
    "### Own implementation"
   ]
  },
  {
   "cell_type": "markdown",
   "id": "accompanied-uniform",
   "metadata": {},
   "source": [
    "The getTags function will give us a number of tags for each document. A tag is a word, that has a tf-idf score higher than minScore."
   ]
  },
  {
   "cell_type": "code",
   "execution_count": 5,
   "id": "changed-blend",
   "metadata": {},
   "outputs": [],
   "source": [
    "def getTags(documents, minScore):\n",
    "    idfDict = mp.Manager().dict() #dictionary that maps words to their idf score of the collection\n",
    "    tasks = []\n",
    "    pool = mp.Pool(4)\n",
    "    print(\"|\" * 800)\n",
    "    print(\"-\"*20)\n",
    "    for doc in documents:\n",
    "        tasks.append(pool.apply_async(threadWorker, [doc,idfDict, documents,minScore]))\n",
    "    pool.close()\n",
    "    pool.join()\n",
    "    return [x.get() for x in tasks]\n",
    "\n",
    "def threadWorker(doc, idfDict, documents,minScore):\n",
    "    docTags = []\n",
    "    for word in set(doc):\n",
    "        idfValue = idfDict.get(word, False)\n",
    "        if not idfValue:\n",
    "            idfValue = calculateIDF(documents, word)\n",
    "            idfDict[word] = idfValue            \n",
    "        tfValue = calculateTF(doc, word)                \n",
    "        tfidfValue = calculateTFIDF(tfValue, idfValue)\n",
    "        if(tfidfValue > minScore):\n",
    "            docTags.append((word,tfidfValue))\n",
    "    print(\"|\",end=\"\")\n",
    "    return docTags"
   ]
  },
  {
   "cell_type": "markdown",
   "id": "reserved-distance",
   "metadata": {},
   "source": [
    "The following function calculates the thf score of a word in a document. Therefor we count the number of times the word occurs in the document and divide it by the total number of words in the document\n",
    "Input:\n",
    "- doc: List of words of a document\n",
    "- word: the word we would like to calculate the score fore"
   ]
  },
  {
   "cell_type": "code",
   "execution_count": 6,
   "id": "computational-dinner",
   "metadata": {},
   "outputs": [],
   "source": [
    "def calculateTF(doc, word):\n",
    "    wordCount = sum(1 for w in doc if w == word)\n",
    "    return wordCount/len(doc)"
   ]
  },
  {
   "cell_type": "markdown",
   "id": "auburn-powder",
   "metadata": {},
   "source": [
    "The calculateIDF function calculates the IDF score of a word in the document collection.\n",
    "Input:\n",
    "- documents: List of lists. List of documents where each document is represented as a list of its words\n",
    "- word: the word for which the idf score should be calculated\n",
    "\n",
    "the idf score is calculated with the following formular:\n",
    "$ idf(t,D) = log \\frac{N}{|\\{d \\in D : t \\in d\\}|} $\n",
    "\n",
    "with:\n",
    "- $N$: count of documents\n",
    "- $D$: collection of documents\n",
    "- $t$: the word for which the score should be calculated\n",
    "\n",
    "=> $\\{d \\in D : t \\in d\\}$: The documents that contain the given word $t$\n"
   ]
  },
  {
   "cell_type": "code",
   "execution_count": 7,
   "id": "strange-lover",
   "metadata": {},
   "outputs": [],
   "source": [
    "def calculateIDF(documents, word):\n",
    "    n = len(documents)\n",
    "    docsThatContainCount = sum(1 for d in documents for w in d if w == word)\n",
    "    return math.log(n/docsThatContainCount)"
   ]
  },
  {
   "cell_type": "code",
   "execution_count": 8,
   "id": "brown-heaven",
   "metadata": {},
   "outputs": [],
   "source": [
    "def calculateTFIDF(tfValue, idfValue):\n",
    "    return tfValue * idfValue"
   ]
  },
  {
   "cell_type": "code",
   "execution_count": 9,
   "id": "wicked-while",
   "metadata": {
    "scrolled": true
   },
   "outputs": [
    {
     "name": "stdout",
     "output_type": "stream",
     "text": [
      "||||||||||||||||||||||||||||||||||||||||||||||||||||||||||||||||||||||||||||||||||||||||||||||||||||||||||||||||||||||||||||||||||||||||||||||||||||||||||||||||||||||||||||||||||||||||||||||||||||||||||||||||||||||||||||||||||||||||||||||||||||||||||||||||||||||||||||||||||||||||||||||||||||||||||||||||||||||||||||||||||||||||||||||||||||||||||||||||||||||||||||||||||||||||||||||||||||||||||||||||||||||||||||||||||||||||||||||||||||||||||||||||||||||||||||||||||||||||||||||||||||||||||||||||||||||||||||||||||||||||||||||||||||||||||||||||||||||||||||||||||||||||||||||||||||||||||||||||||||||||||||||||||||||||||||||||||||||||||||||||||||||||||||||||||||||||||||||||||||||||||||||||||||||||||||||||||||||||||||||||||||||||||||||||||||||||||||||||||||||||||||||||||||||||||||||||||||||||||||||||\n",
      "--------------------\n",
      "||||||||||||||||||||||||||||||||||||||||||||||||||||||||||||||||||||||||||||||||||||||||||||||||||||||||||||||||||||||||||||||||||||||||||||||||||||||||||||||||||||||||||||||||||||||||||||||||||||||||||||||||||||||||||||||||||||||||||||||||||||||||||||||||||||||||||||||||||||||||||||||||||||||||||||||||||||||||||||||||||||||||||||||||||||||||||||||||||||||||||||||||||||||||||||||||||||||||||||||||||||||||||||||||||||||||||||||||||||||||||||||||||||||||||||||||||||||||||||||||||||||||||||||||||||||||||||||||||||||||||||||||||||||||||||||||||||||||||||||||||||||||||||||||||||||||||||||||||||||||||||||||||||||||||||||||||||||||||||||||||||||||||||||||||||||||||||||||||||||||||||||||||||||||||||||||||||||||||||||||||||||||||||||||||||||||||||||||||||||||||||||||||||||||||||||||||||||||||||||||"
     ]
    },
    {
     "data": {
      "text/plain": [
       "800"
      ]
     },
     "execution_count": 9,
     "metadata": {},
     "output_type": "execute_result"
    }
   ],
   "source": [
    "docsList = [[x for x in word_tokenize(d) if x.isalpha()] for d in list(df_articles.text)]\n",
    "result = getTags(docsList,0.005)\n",
    "len(result)"
   ]
  },
  {
   "cell_type": "code",
   "execution_count": null,
   "id": "higher-coordinate",
   "metadata": {},
   "outputs": [],
   "source": []
  },
  {
   "cell_type": "markdown",
   "id": "allied-leadership",
   "metadata": {},
   "source": [
    "### Scikit-learn implementation"
   ]
  },
  {
   "cell_type": "code",
   "execution_count": 10,
   "id": "eight-frame",
   "metadata": {},
   "outputs": [
    {
     "data": {
      "text/html": [
       "<div>\n",
       "<style scoped>\n",
       "    .dataframe tbody tr th:only-of-type {\n",
       "        vertical-align: middle;\n",
       "    }\n",
       "\n",
       "    .dataframe tbody tr th {\n",
       "        vertical-align: top;\n",
       "    }\n",
       "\n",
       "    .dataframe thead th {\n",
       "        text-align: right;\n",
       "    }\n",
       "</style>\n",
       "<table border=\"1\" class=\"dataframe\">\n",
       "  <thead>\n",
       "    <tr style=\"text-align: right;\">\n",
       "      <th></th>\n",
       "      <th>00</th>\n",
       "      <th>000</th>\n",
       "      <th>0000</th>\n",
       "      <th>0000utc</th>\n",
       "      <th>000100</th>\n",
       "      <th>0002</th>\n",
       "      <th>00020</th>\n",
       "      <th>00027</th>\n",
       "      <th>0003</th>\n",
       "      <th>000300</th>\n",
       "      <th>...</th>\n",
       "      <th>zurab</th>\n",
       "      <th>zurich</th>\n",
       "      <th>zvenigorodka</th>\n",
       "      <th>zviad</th>\n",
       "      <th>zvonaric</th>\n",
       "      <th>zvornik</th>\n",
       "      <th>zvulun</th>\n",
       "      <th>zwanetz</th>\n",
       "      <th>zwettl</th>\n",
       "      <th>zywicki</th>\n",
       "    </tr>\n",
       "  </thead>\n",
       "  <tbody>\n",
       "    <tr>\n",
       "      <th>0</th>\n",
       "      <td>0.0</td>\n",
       "      <td>0.000000</td>\n",
       "      <td>0.0</td>\n",
       "      <td>0.0</td>\n",
       "      <td>0.0</td>\n",
       "      <td>0.0</td>\n",
       "      <td>0.0</td>\n",
       "      <td>0.0</td>\n",
       "      <td>0.0</td>\n",
       "      <td>0.0</td>\n",
       "      <td>...</td>\n",
       "      <td>0.0</td>\n",
       "      <td>0.0</td>\n",
       "      <td>0.0</td>\n",
       "      <td>0.0</td>\n",
       "      <td>0.0</td>\n",
       "      <td>0.0</td>\n",
       "      <td>0.0</td>\n",
       "      <td>0.0</td>\n",
       "      <td>0.0</td>\n",
       "      <td>0.0</td>\n",
       "    </tr>\n",
       "    <tr>\n",
       "      <th>1</th>\n",
       "      <td>0.0</td>\n",
       "      <td>0.008507</td>\n",
       "      <td>0.0</td>\n",
       "      <td>0.0</td>\n",
       "      <td>0.0</td>\n",
       "      <td>0.0</td>\n",
       "      <td>0.0</td>\n",
       "      <td>0.0</td>\n",
       "      <td>0.0</td>\n",
       "      <td>0.0</td>\n",
       "      <td>...</td>\n",
       "      <td>0.0</td>\n",
       "      <td>0.0</td>\n",
       "      <td>0.0</td>\n",
       "      <td>0.0</td>\n",
       "      <td>0.0</td>\n",
       "      <td>0.0</td>\n",
       "      <td>0.0</td>\n",
       "      <td>0.0</td>\n",
       "      <td>0.0</td>\n",
       "      <td>0.0</td>\n",
       "    </tr>\n",
       "    <tr>\n",
       "      <th>2</th>\n",
       "      <td>0.0</td>\n",
       "      <td>0.001813</td>\n",
       "      <td>0.0</td>\n",
       "      <td>0.0</td>\n",
       "      <td>0.0</td>\n",
       "      <td>0.0</td>\n",
       "      <td>0.0</td>\n",
       "      <td>0.0</td>\n",
       "      <td>0.0</td>\n",
       "      <td>0.0</td>\n",
       "      <td>...</td>\n",
       "      <td>0.0</td>\n",
       "      <td>0.0</td>\n",
       "      <td>0.0</td>\n",
       "      <td>0.0</td>\n",
       "      <td>0.0</td>\n",
       "      <td>0.0</td>\n",
       "      <td>0.0</td>\n",
       "      <td>0.0</td>\n",
       "      <td>0.0</td>\n",
       "      <td>0.0</td>\n",
       "    </tr>\n",
       "    <tr>\n",
       "      <th>3</th>\n",
       "      <td>0.0</td>\n",
       "      <td>0.006535</td>\n",
       "      <td>0.0</td>\n",
       "      <td>0.0</td>\n",
       "      <td>0.0</td>\n",
       "      <td>0.0</td>\n",
       "      <td>0.0</td>\n",
       "      <td>0.0</td>\n",
       "      <td>0.0</td>\n",
       "      <td>0.0</td>\n",
       "      <td>...</td>\n",
       "      <td>0.0</td>\n",
       "      <td>0.0</td>\n",
       "      <td>0.0</td>\n",
       "      <td>0.0</td>\n",
       "      <td>0.0</td>\n",
       "      <td>0.0</td>\n",
       "      <td>0.0</td>\n",
       "      <td>0.0</td>\n",
       "      <td>0.0</td>\n",
       "      <td>0.0</td>\n",
       "    </tr>\n",
       "    <tr>\n",
       "      <th>4</th>\n",
       "      <td>0.0</td>\n",
       "      <td>0.000000</td>\n",
       "      <td>0.0</td>\n",
       "      <td>0.0</td>\n",
       "      <td>0.0</td>\n",
       "      <td>0.0</td>\n",
       "      <td>0.0</td>\n",
       "      <td>0.0</td>\n",
       "      <td>0.0</td>\n",
       "      <td>0.0</td>\n",
       "      <td>...</td>\n",
       "      <td>0.0</td>\n",
       "      <td>0.0</td>\n",
       "      <td>0.0</td>\n",
       "      <td>0.0</td>\n",
       "      <td>0.0</td>\n",
       "      <td>0.0</td>\n",
       "      <td>0.0</td>\n",
       "      <td>0.0</td>\n",
       "      <td>0.0</td>\n",
       "      <td>0.0</td>\n",
       "    </tr>\n",
       "  </tbody>\n",
       "</table>\n",
       "<p>5 rows × 48611 columns</p>\n",
       "</div>"
      ],
      "text/plain": [
       "    00       000  0000  0000utc  000100  0002  00020  00027  0003  000300  \\\n",
       "0  0.0  0.000000   0.0      0.0     0.0   0.0    0.0    0.0   0.0     0.0   \n",
       "1  0.0  0.008507   0.0      0.0     0.0   0.0    0.0    0.0   0.0     0.0   \n",
       "2  0.0  0.001813   0.0      0.0     0.0   0.0    0.0    0.0   0.0     0.0   \n",
       "3  0.0  0.006535   0.0      0.0     0.0   0.0    0.0    0.0   0.0     0.0   \n",
       "4  0.0  0.000000   0.0      0.0     0.0   0.0    0.0    0.0   0.0     0.0   \n",
       "\n",
       "   ...  zurab  zurich  zvenigorodka  zviad  zvonaric  zvornik  zvulun  \\\n",
       "0  ...    0.0     0.0           0.0    0.0       0.0      0.0     0.0   \n",
       "1  ...    0.0     0.0           0.0    0.0       0.0      0.0     0.0   \n",
       "2  ...    0.0     0.0           0.0    0.0       0.0      0.0     0.0   \n",
       "3  ...    0.0     0.0           0.0    0.0       0.0      0.0     0.0   \n",
       "4  ...    0.0     0.0           0.0    0.0       0.0      0.0     0.0   \n",
       "\n",
       "   zwanetz  zwettl  zywicki  \n",
       "0      0.0     0.0      0.0  \n",
       "1      0.0     0.0      0.0  \n",
       "2      0.0     0.0      0.0  \n",
       "3      0.0     0.0      0.0  \n",
       "4      0.0     0.0      0.0  \n",
       "\n",
       "[5 rows x 48611 columns]"
      ]
     },
     "execution_count": 10,
     "metadata": {},
     "output_type": "execute_result"
    }
   ],
   "source": [
    "tfidf_vectorizer = TfidfVectorizer()\n",
    "tfidf_vector = tfidf_vectorizer.fit_transform(df_articles.text)\n",
    "tfidf_vector.toarray().shape\n",
    "tfidf_df = pd.DataFrame(tfidf_vector.toarray(), columns=tfidf_vectorizer.get_feature_names())\n",
    "tfidf_df.head()"
   ]
  }
 ],
 "metadata": {
  "kernelspec": {
   "display_name": "wikipeida",
   "language": "python",
   "name": "wikipeida"
  },
  "language_info": {
   "codemirror_mode": {
    "name": "ipython",
    "version": 3
   },
   "file_extension": ".py",
   "mimetype": "text/x-python",
   "name": "python",
   "nbconvert_exporter": "python",
   "pygments_lexer": "ipython3",
   "version": "3.8.6"
  }
 },
 "nbformat": 4,
 "nbformat_minor": 5
}
